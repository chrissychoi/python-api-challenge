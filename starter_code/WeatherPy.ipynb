{
 "cells": [
  {
   "cell_type": "markdown",
   "metadata": {},
   "source": [
    "# WeatherPy\n",
    "----\n",
    "\n",
    "#### Note\n",
    "* Instructions have been included for each segment. You do not have to follow them exactly, but they are included to help you think through the steps."
   ]
  },
  {
   "cell_type": "code",
   "execution_count": 1,
   "metadata": {
    "scrolled": true
   },
   "outputs": [],
   "source": [
    "# Dependencies and Setup\n",
    "import matplotlib.pyplot as plt\n",
    "import pandas as pd\n",
    "import numpy as np\n",
    "import requests\n",
    "import time\n",
    "from scipy.stats import linregress\n",
    "\n",
    "# Import API key\n",
    "from api_keys import weather_api_key\n",
    "\n",
    "# Incorporated citipy to determine city based on latitude and longitude\n",
    "from citipy import citipy\n",
    "\n",
    "# Output File (CSV)\n",
    "output_data_file = \"output_data/cities.csv\"\n",
    "\n",
    "# Range of latitudes and longitudes\n",
    "lat_range = (-90, 90)\n",
    "lng_range = (-180, 180)"
   ]
  },
  {
   "cell_type": "markdown",
   "metadata": {},
   "source": [
    "## Generate Cities List"
   ]
  },
  {
   "cell_type": "code",
   "execution_count": 2,
   "metadata": {},
   "outputs": [
    {
     "data": {
      "text/plain": [
       "637"
      ]
     },
     "execution_count": 2,
     "metadata": {},
     "output_type": "execute_result"
    }
   ],
   "source": [
    "# List for holding lat_lngs and cities\n",
    "lat_lngs = []\n",
    "cities = []\n",
    "\n",
    "# Create a set of random lat and lng combinations\n",
    "lats = np.random.uniform(low=-90.000, high=90.000, size=1500)\n",
    "lngs = np.random.uniform(low=-180.000, high=180.000, size=1500)\n",
    "lat_lngs = zip(lats, lngs)\n",
    "\n",
    "# Identify nearest city for each lat, lng combination\n",
    "for lat_lng in lat_lngs:\n",
    "    city = citipy.nearest_city(lat_lng[0], lat_lng[1]).city_name\n",
    "    \n",
    "    # If the city is unique, then add it to a our cities list\n",
    "    if city not in cities:\n",
    "        cities.append(city)\n",
    "\n",
    "# Print the city count to confirm sufficient count\n",
    "len(cities)"
   ]
  },
  {
   "cell_type": "markdown",
   "metadata": {},
   "source": [
    "### Perform API Calls\n",
    "* Perform a weather check on each city using a series of successive API calls.\n",
    "* Include a print log of each city as it'sbeing processed (with the city number and city name).\n"
   ]
  },
  {
   "cell_type": "code",
   "execution_count": 4,
   "metadata": {},
   "outputs": [
    {
     "name": "stdout",
     "output_type": "stream",
     "text": [
      "{'coord': {'lon': -0.13, 'lat': 51.51}, 'weather': [{'id': 801, 'main': 'Clouds', 'description': 'few clouds', 'icon': '02n'}], 'base': 'stations', 'main': {'temp': 6.25, 'feels_like': -0.91, 'temp_min': 5, 'temp_max': 7.22, 'pressure': 1012, 'humidity': 60}, 'visibility': 10000, 'wind': {'speed': 7.2, 'deg': 240}, 'clouds': {'all': 24}, 'dt': 1584049733, 'sys': {'type': 1, 'id': 1412, 'country': 'GB', 'sunrise': 1583994043, 'sunset': 1584035988}, 'timezone': 0, 'id': 2643743, 'name': 'London', 'cod': 200}\n"
     ]
    }
   ],
   "source": [
    "#test example to check format\n",
    "url = \"http://api.openweathermap.org/data/2.5/weather?\"\n",
    "city = \"London\"\n",
    "units = \"metric\"\n",
    "query_url = f\"{url}appid={weather_api_key}&units={units}&q=\"\n",
    "\n",
    "response = requests.get(query_url + city).json()\n",
    "\n",
    "print(response)"
   ]
  },
  {
   "cell_type": "code",
   "execution_count": 12,
   "metadata": {},
   "outputs": [
    {
     "name": "stdout",
     "output_type": "stream",
     "text": [
      "Beginning Data Retrieval\n",
      "-----------------------------\n",
      "Checked Breves, city id 3404817, record count 1\n",
      "Checked Vila Velha, city id 3445026, record count 2\n",
      "Checked Mahébourg, city id 934322, record count 3\n",
      "Checked Bredasdorp, city id 1015776, record count 4\n",
      "City not found\n",
      "Checked Mataura, city id 6201424, record count 5\n",
      "Checked Kapaa, city id 5848280, record count 6\n",
      "Checked Hong Kong, city id 1819729, record count 7\n",
      "Checked Porbandar, city id 1259395, record count 8\n",
      "Checked Arraial do Cabo, city id 3471451, record count 9\n",
      "Checked Albany, city id 5106841, record count 10\n",
      "Checked Inuvik, city id 5983607, record count 11\n",
      "City not found\n",
      "Checked Husavik, city id 2629833, record count 12\n",
      "Checked Bethel, city id 5282297, record count 13\n",
      "Checked Yeppoon, city id 2142316, record count 14\n",
      "Checked Cape Town, city id 3369157, record count 15\n",
      "Checked Deep River, city id 5937073, record count 16\n",
      "Checked Jamestown, city id 5122534, record count 17\n",
      "Checked Hobart, city id 2163355, record count 18\n",
      "Checked Avarua, city id 4035715, record count 19\n",
      "Checked Gari, city id 1506676, record count 20\n",
      "Checked Tuktoyaktuk, city id 6170031, record count 21\n",
      "Checked George Town, city id 1735106, record count 22\n",
      "Checked Ponferrada, city id 3113236, record count 23\n",
      "City not found\n",
      "Checked Thompson, city id 6165406, record count 24\n",
      "Checked Busselton, city id 2075265, record count 25\n",
      "City not found\n",
      "Checked Elban, city id 2024449, record count 26\n",
      "Checked Philadelphia, city id 4560349, record count 27\n",
      "City not found\n",
      "Checked Copiapó, city id 3893656, record count 28\n",
      "Checked Pangkalanbuun, city id 1632694, record count 29\n",
      "Checked Constitución, city id 3893726, record count 30\n",
      "Checked Saint George, city id 5546220, record count 31\n",
      "Checked Rikitea, city id 4030556, record count 32\n",
      "Checked Ixtapa, city id 4004293, record count 33\n",
      "Checked Qaanaaq, city id 3831208, record count 34\n",
      "Checked Ushuaia, city id 3833367, record count 35\n",
      "Checked Kargopol', city id 552465, record count 36\n",
      "Checked Broken Hill, city id 2173911, record count 37\n",
      "City not found\n",
      "Checked Esperance, city id 2071860, record count 38\n",
      "Checked Khatanga, city id 2022572, record count 39\n",
      "Checked Naze, city id 1855540, record count 40\n",
      "Checked Margate, city id 2643044, record count 41\n",
      "Checked Hithadhoo, city id 1282256, record count 42\n",
      "Checked New Norfolk, city id 2155415, record count 43\n",
      "Checked Corralillo, city id 3563317, record count 44\n",
      "Checked Wonthaggi, city id 2154826, record count 45\n",
      "Checked Dubti, city id 338554, record count 46\n",
      "Checked Oudtshoorn, city id 967106, record count 47\n",
      "Checked Mindszent, city id 717591, record count 48\n",
      "Checked Ilulissat, city id 3423146, record count 49\n",
      "Checked Cockburn Town, city id 3576994, record count 50\n",
      "Checked Alta Floresta, city id 6316343, record count 51\n",
      "Checked Kavieng, city id 2094342, record count 52\n",
      "Checked Ottawa, city id 6094817, record count 53\n",
      "Checked Khudumelapye, city id 933633, record count 54\n",
      "Checked Cherskiy, city id 2126199, record count 55\n",
      "Checked Punta Arenas, city id 3874787, record count 56\n",
      "Checked Almaznyy, city id 582447, record count 57\n",
      "Checked Barrow, city id 5880054, record count 58\n",
      "City not found\n",
      "Checked Vaini, city id 4032243, record count 59\n",
      "Checked Carutapera, city id 3402648, record count 60\n",
      "Checked Lethem, city id 3379316, record count 61\n",
      "City not found\n",
      "Checked Camaná, city id 3945985, record count 62\n",
      "Checked Hilo, city id 5855927, record count 63\n",
      "Checked Atuona, city id 4020109, record count 64\n",
      "Checked Cabo San Lucas, city id 3985710, record count 65\n",
      "Checked Souillac, city id 933995, record count 66\n",
      "City not found\n",
      "Checked Mar del Plata, city id 3430863, record count 67\n",
      "Checked Koslan, city id 544084, record count 68\n",
      "Checked Hofn, city id 2630299, record count 69\n",
      "Checked Santa Lucía, city id 2511150, record count 70\n",
      "Checked Unión Hidalgo, city id 3514916, record count 71\n",
      "Checked Taltal, city id 3870243, record count 72\n",
      "Checked São José da Coroa Grande, city id 3388456, record count 73\n",
      "Checked Poya, city id 2138522, record count 74\n",
      "Checked Hermanus, city id 3366880, record count 75\n",
      "Checked Mabaruma, city id 3377301, record count 76\n",
      "Checked Tilichiki, city id 2120591, record count 77\n",
      "Checked Nome, city id 5870133, record count 78\n",
      "Checked Caldwell, city id 5587698, record count 79\n",
      "Checked Tuatapere, city id 2180815, record count 80\n",
      "Checked Huarmey, city id 3939168, record count 81\n",
      "Checked Isangel, city id 2136825, record count 82\n",
      "Checked Provideniya, city id 4031574, record count 83\n",
      "Checked Bluff, city id 2206939, record count 84\n",
      "Checked Saint-Augustin, city id 6137462, record count 85\n",
      "Checked Cheney, city id 5789856, record count 86\n",
      "Checked Honchō, city id 2129003, record count 87\n",
      "Checked Nanortalik, city id 3421765, record count 88\n",
      "Checked Hasaki, city id 2112802, record count 89\n",
      "Checked Chicama, city id 3698359, record count 90\n",
      "Checked Hołoby, city id 708613, record count 91\n",
      "Checked Chui, city id 3443061, record count 92\n",
      "Checked Oodweyne, city id 53372, record count 93\n",
      "City not found\n",
      "Checked Porteirinha, city id 3452956, record count 94\n",
      "Checked Gornyy, city id 1506254, record count 95\n",
      "Checked Taikang, city id 2034600, record count 96\n",
      "City not found\n",
      "Checked Butaritari, city id 2110227, record count 97\n",
      "Checked Cidreira, city id 3466165, record count 98\n",
      "Checked East London, city id 1006984, record count 99\n",
      "Checked Merauke, city id 2082539, record count 100\n",
      "Checked Zhangye, city id 1785036, record count 101\n",
      "Checked Magadan, city id 2123628, record count 102\n",
      "Checked Port Blair, city id 1259385, record count 103\n",
      "Checked Lavrentiya, city id 4031637, record count 104\n",
      "Checked Athabasca, city id 5887916, record count 105\n",
      "Checked Deputatsky, city id 2028164, record count 106\n",
      "Checked Batagay, city id 2027044, record count 107\n",
      "Checked Quelimane, city id 1028434, record count 108\n",
      "Checked Yellowknife, city id 6185377, record count 109\n",
      "Checked Saint Anthony, city id 5044290, record count 110\n",
      "Checked Saldanha, city id 3361934, record count 111\n",
      "Checked Lumeje, city id 876123, record count 112\n",
      "Checked Lebu, city id 3883457, record count 113\n",
      "Checked Cumberland, city id 4462716, record count 114\n",
      "City not found\n",
      "Checked Solnechnyy, city id 2016307, record count 115\n",
      "Checked Mergen, city id 2035601, record count 116\n",
      "Checked Port Alfred, city id 964432, record count 117\n",
      "Checked Tyukhtet, city id 1488774, record count 118\n",
      "Checked Kars, city id 743952, record count 119\n",
      "Checked Leningradskiy, city id 2123814, record count 120\n",
      "City not found\n",
      "Checked Narsaq, city id 3421719, record count 121\n",
      "Checked Suclayin, city id 1700994, record count 122\n",
      "City not found\n",
      "Checked Kaitangata, city id 2208248, record count 123\n",
      "Checked Departamento de Maldonado, city id 3441890, record count 124\n",
      "City not found\n",
      "Checked Owando, city id 2255542, record count 125\n",
      "Checked Aksarka, city id 1512019, record count 126\n",
      "Checked Saint Paul Harbor, city id 5866583, record count 127\n",
      "Checked Nanyuki, city id 184433, record count 128\n",
      "Checked Labytnangi, city id 1500933, record count 129\n",
      "Checked São Gonçalo do Amarante, city id 3388714, record count 130\n",
      "Checked Mount Isa, city id 2065594, record count 131\n",
      "Checked Krasnosel'kup, city id 1502073, record count 132\n",
      "Checked Pudozh, city id 504269, record count 133\n",
      "Checked Ulladulla, city id 2145554, record count 134\n",
      "City not found\n",
      "Checked Longyearbyen, city id 2729907, record count 135\n",
      "Checked Severo-Kuril'sk, city id 2121385, record count 136\n",
      "Checked Coyhaique, city id 3894426, record count 137\n",
      "Checked Talnakh, city id 1490256, record count 138\n",
      "Checked Port Elizabeth, city id 964420, record count 139\n",
      "Checked San Patricio, city id 3985168, record count 140\n",
      "Checked São Miguel do Araguaia, city id 3448455, record count 141\n",
      "Checked Norman Wells, city id 6089245, record count 142\n",
      "Checked Upata, city id 3625710, record count 143\n",
      "Checked Oranjestad, city id 3577154, record count 144\n",
      "Checked Tulun, city id 2014927, record count 145\n",
      "Checked Mehrān, city id 124291, record count 146\n",
      "Checked Havre-St-Pierre, city id 5972291, record count 147\n",
      "Checked Pyapon, city id 1299237, record count 148\n",
      "Checked Zastron, city id 937246, record count 149\n",
      "Checked Kahului, city id 5847411, record count 150\n",
      "Checked Ribeira Grande, city id 3372707, record count 151\n",
      "Checked Kitimat, city id 5993072, record count 152\n"
     ]
    },
    {
     "name": "stdout",
     "output_type": "stream",
     "text": [
      "Checked Chihuahua, city id 4014336, record count 153\n",
      "Checked Vung Tau, city id 1562414, record count 154\n",
      "Checked Koindu, city id 2409751, record count 155\n",
      "Checked Batemans Bay, city id 2176639, record count 156\n",
      "Checked Turbat, city id 1163054, record count 157\n",
      "Checked Araouane, city id 2460954, record count 158\n",
      "Checked Yashkul', city id 468747, record count 159\n",
      "Checked Paamiut, city id 3421193, record count 160\n",
      "Checked Yurgamysh, city id 1485721, record count 161\n",
      "Checked Umm Kaddadah, city id 364933, record count 162\n",
      "Checked Yangi Marg`ilon, city id 1513491, record count 163\n",
      "Checked Thohoyandou, city id 949224, record count 164\n",
      "Checked Egvekinot, city id 4031742, record count 165\n",
      "Checked Lafia, city id 2332515, record count 166\n",
      "Checked Narasannapeta, city id 1261853, record count 167\n",
      "Checked Vostok, city id 2013279, record count 168\n",
      "Checked Saint-Philippe, city id 935215, record count 169\n",
      "Checked Parabel', city id 1495586, record count 170\n",
      "Checked Faanui, city id 4034551, record count 171\n",
      "Checked Cap Malheureux, city id 934649, record count 172\n",
      "Checked Tasiilaq, city id 3424607, record count 173\n",
      "Checked Mount Darwin, city id 885800, record count 174\n",
      "Checked Olinda, city id 3393536, record count 175\n",
      "Checked Wana, city id 1162634, record count 176\n",
      "Checked Grand-Santi, city id 3381538, record count 177\n",
      "City not found\n",
      "Checked La Ronge, city id 6050066, record count 178\n",
      "Checked Waingapu, city id 1622318, record count 179\n",
      "Checked Vänersborg, city id 2665171, record count 180\n",
      "Checked Kozhva, city id 543246, record count 181\n",
      "Checked Nikolskoye, city id 546105, record count 182\n",
      "Checked Hīt, city id 95788, record count 183\n",
      "Checked Chokurdakh, city id 2126123, record count 184\n",
      "Checked Puerto Ayora, city id 3652764, record count 185\n",
      "Checked Merke, city id 1520969, record count 186\n",
      "Checked Sarangani, city id 1687186, record count 187\n",
      "Checked Krasnogvardeyskiy, city id 1502100, record count 188\n",
      "Checked Mongo, city id 2427637, record count 189\n",
      "Checked Peniche, city id 2264923, record count 190\n",
      "Checked Vardø, city id 777019, record count 191\n",
      "Checked Jiaojiang, city id 1809061, record count 192\n",
      "Checked Manta, city id 3654410, record count 193\n",
      "Checked Yar-Sale, city id 1486321, record count 194\n",
      "City not found\n",
      "Checked Dingle, city id 1714733, record count 195\n",
      "Checked Saskylakh, city id 2017155, record count 196\n",
      "Checked Örebro, city id 2686657, record count 197\n",
      "Checked Reshetikha, city id 502078, record count 198\n",
      "Checked Ajdabiya, city id 89113, record count 199\n",
      "Checked Suntar, city id 2015913, record count 200\n",
      "Checked Upernavik, city id 3418910, record count 201\n",
      "Checked Luwuk, city id 1637001, record count 202\n",
      "Checked Acaraú, city id 3408368, record count 203\n",
      "Checked Fare, city id 4034496, record count 204\n",
      "Checked Vigevano, city id 3164376, record count 205\n",
      "Checked Orlik, city id 1496073, record count 206\n",
      "Checked Ha Giang, city id 1581349, record count 207\n",
      "Checked Najrān, city id 103630, record count 208\n",
      "Checked Khovd, city id 1516048, record count 209\n",
      "Checked Sinnamary, city id 3380290, record count 210\n",
      "Checked Payo, city id 1638775, record count 211\n",
      "Checked Granville, city id 2164691, record count 212\n",
      "Checked Pachino, city id 6539213, record count 213\n",
      "City not found\n",
      "City not found\n",
      "City not found\n",
      "Checked Kautokeino, city id 779330, record count 214\n",
      "Checked Hargeisa, city id 57289, record count 215\n",
      "Checked San Cristobal, city id 3628473, record count 216\n",
      "Checked Vetlanda, city id 2663293, record count 217\n",
      "Checked Orange Cove, city id 5379533, record count 218\n",
      "Checked Jining, city id 1805518, record count 219\n",
      "City not found\n",
      "Checked Torbay, city id 6167817, record count 220\n",
      "Checked Bandiagara, city id 2460489, record count 221\n",
      "Checked Kirakira, city id 2178753, record count 222\n",
      "Checked East Moline, city id 4890536, record count 223\n",
      "Checked Kita, city id 2455216, record count 224\n",
      "Checked Hokitika, city id 2206894, record count 225\n",
      "Checked Emerald, city id 2167426, record count 226\n",
      "Checked Bengkulu, city id 1649150, record count 227\n",
      "City not found\n",
      "Checked Pawai, city id 1260009, record count 228\n",
      "Checked Castro, city id 3466704, record count 229\n",
      "City not found\n",
      "Checked Ryōtsu-minato, city id 1853371, record count 230\n",
      "Checked Bloomsburg, city id 5180934, record count 231\n",
      "Checked Mahibadhoo, city id 1337605, record count 232\n",
      "Checked Roald, city id 3141667, record count 233\n",
      "Checked Salalah, city id 286621, record count 234\n",
      "Checked Kununurra, city id 2068110, record count 235\n",
      "Checked Oranjemund, city id 3354071, record count 236\n",
      "Checked Phan Thiet, city id 1571058, record count 237\n",
      "Checked Chërnaya Kholunitsa, city id 568954, record count 238\n",
      "Checked Bichena, city id 342190, record count 239\n",
      "Checked Mercedes, city id 3430708, record count 240\n",
      "Checked Qasigiannguit, city id 3420768, record count 241\n",
      "Checked Carnarvon, city id 2074865, record count 242\n",
      "Checked Kyustendil, city id 729730, record count 243\n",
      "Checked Makokou, city id 2399371, record count 244\n",
      "Checked Flinders, city id 6255012, record count 245\n",
      "Checked Khandyga, city id 2022773, record count 246\n",
      "Checked Tortosa, city id 3107677, record count 247\n",
      "Checked Ribeira Brava, city id 2263905, record count 248\n",
      "Checked Nur-Sultan, city id 1526273, record count 249\n",
      "Checked Babaeski, city id 751371, record count 250\n",
      "Checked Lincoln, city id 5072006, record count 251\n",
      "Checked Marsá Maţrūḩ, city id 352733, record count 252\n",
      "Checked Zhigansk, city id 2012530, record count 253\n",
      "Checked Bilma, city id 2446796, record count 254\n",
      "Checked Chapais, city id 5919850, record count 255\n",
      "Checked Zhezkazgan, city id 1516589, record count 256\n",
      "Checked Lorengau, city id 2092164, record count 257\n",
      "Checked Lüderitz, city id 3355672, record count 258\n",
      "Checked Lubango, city id 3347762, record count 259\n",
      "Checked Nybro, city id 2687902, record count 260\n",
      "Checked Desaguadero, city id 3941492, record count 261\n",
      "Checked Luau, city id 876177, record count 262\n",
      "Checked Saint-Ambroise, city id 6137381, record count 263\n",
      "Checked Beyla, city id 2423126, record count 264\n",
      "Checked Oriximiná, city id 3393471, record count 265\n",
      "Checked Rome, city id 5134295, record count 266\n",
      "City not found\n",
      "Checked Sambava, city id 1056899, record count 267\n",
      "Checked Chimbote, city id 3698304, record count 268\n",
      "Checked Aklavik, city id 5882953, record count 269\n",
      "Checked Bosaso, city id 64013, record count 270\n",
      "Checked Peleduy, city id 2018069, record count 271\n",
      "Checked Airai, city id 1651810, record count 272\n",
      "Checked Kiryat Gat, city id 293842, record count 273\n",
      "Checked Lillooet, city id 6945979, record count 274\n",
      "Checked Yulara, city id 6355222, record count 275\n",
      "Checked Fernley, city id 5504003, record count 276\n",
      "Checked Bambous Virieux, city id 1106677, record count 277\n",
      "City not found\n",
      "Checked Boa Vista, city id 3664980, record count 278\n",
      "Checked Safi, city id 2537881, record count 279\n",
      "Checked Nabire, city id 1634614, record count 280\n",
      "Checked Te Anau, city id 2181625, record count 281\n",
      "Checked Maltahöhe, city id 3355624, record count 282\n",
      "Checked Lodwar, city id 189280, record count 283\n",
      "Checked Fairbanks, city id 5861897, record count 284\n",
      "Checked Swan Hill, city id 2147756, record count 285\n",
      "Checked Manicoré, city id 3663503, record count 286\n",
      "Checked Mlowo, city id 153352, record count 287\n",
      "Checked Jaciara, city id 3460355, record count 288\n",
      "Checked Kieta, city id 2094027, record count 289\n",
      "Checked Iqaluit, city id 5983720, record count 290\n",
      "Checked Kaabong, city id 233093, record count 291\n",
      "Checked Codrington, city id 2171099, record count 292\n",
      "Checked Zhoucheng, city id 1920772, record count 293\n",
      "Checked Sittwe, city id 1295765, record count 294\n",
      "Checked Verāval, city id 1253237, record count 295\n",
      "Checked Santa Barbara, city id 5392952, record count 296\n",
      "Checked Bambanglipuro, city id 1650434, record count 297\n",
      "Checked Cheţani, city id 682171, record count 298\n",
      "Checked Padang, city id 1633419, record count 299\n",
      "Checked Cosalá, city id 4012707, record count 300\n",
      "Checked Lakhtar, city id 1265225, record count 301\n",
      "Checked São Filipe, city id 3374210, record count 302\n",
      "Checked Ordu, city id 741098, record count 303\n",
      "Checked Kastamonu Province, city id 743881, record count 304\n",
      "Checked Klyuchi, city id 1503153, record count 305\n",
      "Checked Esik, city id 1523741, record count 306\n",
      "Checked Lompoc, city id 5367788, record count 307\n"
     ]
    },
    {
     "name": "stdout",
     "output_type": "stream",
     "text": [
      "Checked Kochevo, city id 546845, record count 308\n",
      "Checked Elizabeth City, city id 4465088, record count 309\n",
      "Checked Sola, city id 2134814, record count 310\n",
      "Checked Port Hedland, city id 2063042, record count 311\n",
      "City not found\n",
      "Checked Cap-aux-Meules, city id 5915327, record count 312\n",
      "Checked Comodoro Rivadavia, city id 3860443, record count 313\n",
      "Checked Half Moon Bay, city id 5354943, record count 314\n",
      "Checked Rio Negrinho, city id 3451124, record count 315\n",
      "Checked Portland, city id 5746545, record count 316\n",
      "Checked Santa Rosa, city id 1687894, record count 317\n",
      "Checked Dikson, city id 1507390, record count 318\n",
      "Checked Alvorada, city id 3472404, record count 319\n",
      "Checked Huaihua, city id 1807689, record count 320\n",
      "City not found\n",
      "Checked Talara, city id 3691582, record count 321\n",
      "City not found\n",
      "Checked Anadyr, city id 2127202, record count 322\n",
      "Checked Geraldton, city id 2070998, record count 323\n",
      "Checked Nieuw Nickerie, city id 3383427, record count 324\n",
      "Checked Sinjai, city id 1626895, record count 325\n",
      "Checked Opuwo, city id 3354077, record count 326\n",
      "Checked Isparta Province, city id 311071, record count 327\n",
      "Checked Puerto Escondido, city id 3520994, record count 328\n",
      "Checked Klaksvík, city id 2618795, record count 329\n",
      "Checked Saint-Pierre, city id 935214, record count 330\n",
      "Checked Mandiana, city id 2417795, record count 331\n",
      "Checked Kamaishi, city id 2112444, record count 332\n",
      "Checked Ostrovnoy, city id 556268, record count 333\n",
      "Checked Lata, city id 2738381, record count 334\n",
      "Checked Kupang, city id 2057087, record count 335\n",
      "Checked Pimentel, city id 3693584, record count 336\n",
      "Checked Vila Franca do Campo, city id 3372472, record count 337\n",
      "Checked Sorong, city id 1626542, record count 338\n",
      "Checked Lingyuan, city id 2036075, record count 339\n",
      "City not found\n",
      "Checked Vao, city id 2137773, record count 340\n",
      "Checked Bezdan, city id 3190342, record count 341\n",
      "Checked Compiègne, city id 3024066, record count 342\n",
      "Checked Victor Harbor, city id 2059470, record count 343\n",
      "Checked Turaif, city id 101312, record count 344\n",
      "City not found\n",
      "Checked Auki, city id 2109701, record count 345\n",
      "Checked Bulungu, city id 2316259, record count 346\n",
      "Checked Usakos, city id 3352461, record count 347\n",
      "Checked Lake Shasta, city id 5571109, record count 348\n",
      "Checked Kashira, city id 551964, record count 349\n",
      "Checked Rodrigues Alves, city id 3665210, record count 350\n",
      "Checked Ponta Delgada, city id 3372783, record count 351\n",
      "Checked Isla Vista, city id 5359864, record count 352\n",
      "Checked Nālūt, city id 2214432, record count 353\n",
      "Checked Port Hardy, city id 6111862, record count 354\n",
      "Checked Ancud, city id 3899695, record count 355\n",
      "Checked Necochea, city id 3430443, record count 356\n",
      "Checked Wad Medani, city id 364103, record count 357\n",
      "City not found\n",
      "Checked Inírida, city id 3671450, record count 358\n",
      "Checked Nœux-les-Mines, city id 2990287, record count 359\n",
      "City not found\n",
      "Checked Beringovskiy, city id 2126710, record count 360\n",
      "Checked Walvis Bay, city id 3359638, record count 361\n",
      "Checked Fukuechō, city id 1863997, record count 362\n",
      "City not found\n",
      "Checked Zeya, city id 2012593, record count 363\n",
      "Checked Xichang, city id 1789647, record count 364\n",
      "Checked Godda, city id 1271113, record count 365\n",
      "Checked Soyo, city id 2236967, record count 366\n",
      "Checked Palmeira, city id 3455425, record count 367\n",
      "Checked Ponta do Sol, city id 2264557, record count 368\n",
      "Checked Champerico, city id 3598787, record count 369\n",
      "Checked Benemérito de las Américas, city id 3816362, record count 370\n",
      "Checked Gbarnga, city id 2277060, record count 371\n",
      "Checked Maumelle, city id 4120792, record count 372\n",
      "Checked Moose Factory, city id 6078372, record count 373\n",
      "Checked Grants, city id 5469841, record count 374\n",
      "Checked Meulaboh, city id 1214488, record count 375\n",
      "Checked Van Wert, city id 5175079, record count 376\n",
      "Checked Araure, city id 3649017, record count 377\n",
      "Checked Gemeente Druten, city id 2756538, record count 378\n",
      "Checked Torit, city id 365742, record count 379\n",
      "Checked Pevek, city id 2122090, record count 380\n",
      "Checked Avera, city id 4231997, record count 381\n",
      "Checked Callaway, city id 4149635, record count 382\n",
      "Checked Taoudenni, city id 2450173, record count 383\n",
      "Checked Portales, city id 5484874, record count 384\n",
      "Checked Thessalon, city id 6164831, record count 385\n",
      "Checked Kruisfontein, city id 986717, record count 386\n",
      "Checked Maumere, city id 1635815, record count 387\n",
      "City not found\n",
      "Checked Seoul, city id 1835848, record count 388\n",
      "Checked Arrondissement de Bernay, city id 3033307, record count 389\n",
      "Checked Buala, city id 2109528, record count 390\n",
      "Checked Kholmy, city id 706335, record count 391\n",
      "Checked Shepsi, city id 494846, record count 392\n",
      "Checked Tessalit, city id 2449893, record count 393\n",
      "Checked Asău, city id 686090, record count 394\n",
      "Checked Boguchany, city id 1509844, record count 395\n",
      "Checked Mayo, city id 4362001, record count 396\n",
      "Checked Romans-sur-Isère, city id 2983011, record count 397\n",
      "Checked Bend, city id 5713587, record count 398\n",
      "Checked Dabat, city id 340358, record count 399\n",
      "Checked Bilibino, city id 2126682, record count 400\n",
      "Checked Ahipara, city id 2194098, record count 401\n",
      "Checked Opelika, city id 4081644, record count 402\n",
      "Checked Keti Bandar, city id 1174451, record count 403\n",
      "Checked Rawson, city id 3839307, record count 404\n",
      "Checked Hirado, city id 1862555, record count 405\n",
      "Checked Mikkeli, city id 646005, record count 406\n",
      "Checked Berdigestyakh, city id 2026861, record count 407\n",
      "Checked Atbasar, city id 1526038, record count 408\n",
      "Checked Bauchi, city id 2347468, record count 409\n",
      "Checked Salta, city id 3838233, record count 410\n",
      "City not found\n",
      "City not found\n",
      "Checked Marawi, city id 1701054, record count 411\n",
      "Checked Richards Bay, city id 962367, record count 412\n",
      "Checked Hauterive, city id 3013748, record count 413\n",
      "Checked Chilia Veche, city id 682117, record count 414\n",
      "City not found\n",
      "Checked Taperoá, city id 3386693, record count 415\n",
      "Checked Fortuna, city id 5563839, record count 416\n",
      "Checked Prince Rupert, city id 6113406, record count 417\n",
      "Checked Grindavik, city id 3416888, record count 418\n",
      "Checked Cañon City, city id 5416005, record count 419\n",
      "Checked San Quintín, city id 3984997, record count 420\n",
      "Checked Quatre Cocos, city id 1106643, record count 421\n",
      "Checked Bubaque, city id 2374583, record count 422\n",
      "Checked Ladushkin, city id 537229, record count 423\n",
      "Checked Yura, city id 3925467, record count 424\n",
      "Checked Khani, city id 610864, record count 425\n",
      "Checked St. Pete Beach, city id 4171522, record count 426\n",
      "Checked Tambura, city id 366444, record count 427\n",
      "Checked Puerto del Rosario, city id 2512186, record count 428\n",
      "Checked Zhaotong, city id 1784841, record count 429\n",
      "Checked Concepción, city id 3893894, record count 430\n",
      "City not found\n",
      "Checked Jacobina, city id 3460344, record count 431\n",
      "Checked Barra Patuca, city id 3614835, record count 432\n",
      "Checked Mahuva, city id 1267454, record count 433\n",
      "Checked Maceió, city id 3395981, record count 434\n",
      "Checked Kismayo, city id 55671, record count 435\n",
      "Checked Sunyani, city id 2295021, record count 436\n",
      "Checked Takaka, city id 2181997, record count 437\n",
      "Checked Pingdu, city id 1798821, record count 438\n",
      "Checked Payao, city id 1694209, record count 439\n",
      "Checked Minsk, city id 625144, record count 440\n",
      "Checked Tigil', city id 2120612, record count 441\n",
      "Checked Lucea, city id 3489657, record count 442\n",
      "Checked Kuchera, city id 1265821, record count 443\n",
      "City not found\n",
      "Checked Novy Urengoy, city id 1496511, record count 444\n",
      "Checked Aliwal North, city id 1023309, record count 445\n",
      "Checked Angoche, city id 1052944, record count 446\n",
      "Checked Shache, city id 1280037, record count 447\n",
      "Checked Nevinnomyssk, city id 522377, record count 448\n",
      "Checked Nioro, city id 2412408, record count 449\n",
      "Checked Shingū, city id 1847947, record count 450\n",
      "City not found\n",
      "City not found\n",
      "Checked Port Antonio, city id 3489005, record count 451\n",
      "Checked Kuril'sk, city id 2123979, record count 452\n",
      "Checked Ariquemes, city id 3665199, record count 453\n",
      "Checked Kushima, city id 1895695, record count 454\n",
      "Checked Otane, city id 2185329, record count 455\n",
      "Checked Verkhnyaya Toyma, city id 474470, record count 456\n",
      "Checked Vestmanna, city id 2610343, record count 457\n",
      "City not found\n",
      "City not found\n",
      "Checked Pisco, city id 3932145, record count 458\n"
     ]
    },
    {
     "name": "stdout",
     "output_type": "stream",
     "text": [
      "Checked Agirish, city id 1512101, record count 459\n",
      "Checked Shudayag, city id 493600, record count 460\n",
      "Checked Gweta, city id 933734, record count 461\n",
      "Checked Semnan, city id 116402, record count 462\n",
      "City not found\n",
      "Checked Okhotsk, city id 2122605, record count 463\n",
      "Checked Labuhan, city id 8079926, record count 464\n",
      "Checked Balkhash, city id 1525798, record count 465\n",
      "Checked Aksay, city id 583673, record count 466\n",
      "Checked Baykit, city id 1510689, record count 467\n",
      "Checked Tornio, city id 634093, record count 468\n",
      "Checked Puri, city id 1259184, record count 469\n",
      "Checked Juan de Ayolas, city id 3439378, record count 470\n",
      "Checked Yingchuan, city id 1785566, record count 471\n",
      "Checked Boyolangu, city id 1648082, record count 472\n",
      "Checked Worland, city id 5843495, record count 473\n",
      "Checked Lufilufi, city id 4035249, record count 474\n",
      "Checked Kitui, city id 191038, record count 475\n",
      "Checked Gijang, city id 1842966, record count 476\n",
      "Checked Clyde River, city id 5924351, record count 477\n",
      "Checked Pacific Grove, city id 5380437, record count 478\n",
      "Checked Eirunepé, city id 3664321, record count 479\n",
      "City not found\n",
      "Checked Bereda, city id 3105522, record count 480\n",
      "Checked Stolin, city id 621277, record count 481\n",
      "Checked Diré, city id 2458624, record count 482\n",
      "Checked Karlshamn, city id 2701727, record count 483\n",
      "Checked Morón, city id 3430545, record count 484\n",
      "Checked Antofagasta, city id 3899539, record count 485\n",
      "Checked Sungai Raya, city id 1625908, record count 486\n",
      "Checked Kokopo, city id 2093685, record count 487\n",
      "City not found\n",
      "Checked Fredericksburg, city id 4760059, record count 488\n",
      "Checked Bolgatanga, city id 2302821, record count 489\n",
      "Checked Galveston, city id 4692856, record count 490\n",
      "Checked Kagal'nitskaya, city id 554482, record count 491\n",
      "Checked Nyurba, city id 2018735, record count 492\n",
      "Checked Broome, city id 5110365, record count 493\n",
      "Checked Macapá, city id 3396016, record count 494\n",
      "City not found\n",
      "City not found\n",
      "Checked Zabaykal'sk, city id 2012780, record count 495\n",
      "Checked Forrest City, city id 4111382, record count 496\n",
      "Checked Conceição do Castelo, city id 3465749, record count 497\n",
      "City not found\n",
      "Checked Zapadnaya Dvina, city id 464891, record count 498\n",
      "Checked Englewood, city id 5421250, record count 499\n",
      "Checked Bugama, city id 2324433, record count 500\n",
      "Checked Alice Springs, city id 2077895, record count 501\n",
      "Checked Karratha, city id 6620339, record count 502\n",
      "Checked Leiyang, city id 1804208, record count 503\n",
      "Checked Olafsvik, city id 3414079, record count 504\n",
      "Checked Luba, city id 2309528, record count 505\n",
      "City not found\n",
      "Checked Soe, city id 1626703, record count 506\n",
      "Checked Abilene, city id 4669635, record count 507\n",
      "Checked Yaan, city id 2338660, record count 508\n",
      "Checked Alofi, city id 4036284, record count 509\n",
      "Checked Nelson Bay, city id 2155562, record count 510\n",
      "Checked Grimstad, city id 3155041, record count 511\n",
      "Checked Nishihara, city id 1855342, record count 512\n",
      "Checked Abéché, city id 245785, record count 513\n",
      "Checked Regina, city id 6119109, record count 514\n",
      "Checked Masterton, city id 2206890, record count 515\n",
      "Checked Shakawe, city id 933077, record count 516\n",
      "Checked Plettenberg Bay, city id 964712, record count 517\n",
      "Checked Ankang, city id 1789065, record count 518\n",
      "Checked Dudinka, city id 1507116, record count 519\n",
      "Checked Socorro, city id 5530932, record count 520\n",
      "Checked Grand-Lahou, city id 2288105, record count 521\n",
      "Checked Guangzhou, city id 1809858, record count 522\n",
      "Checked Zyryanka, city id 2119283, record count 523\n",
      "Checked Pinawa, city id 6104820, record count 524\n",
      "Checked Uíge, city id 2236568, record count 525\n",
      "Checked Camabatela, city id 2242885, record count 526\n",
      "Checked Bobo-Dioulasso, city id 2362344, record count 527\n",
      "Checked Coquimbo, city id 3893629, record count 528\n",
      "Checked Córdoba, city id 3860259, record count 529\n",
      "Checked Taywarah, city id 1122464, record count 530\n",
      "Checked Hambantota, city id 1244926, record count 531\n",
      "Checked Tiksi, city id 2015306, record count 532\n",
      "Checked Esim, city id 2303611, record count 533\n",
      "Checked Ndélé, city id 237379, record count 534\n",
      "Checked Brigantine, city id 4500920, record count 535\n",
      "Checked Tezu, city id 1254709, record count 536\n",
      "Checked Meridian, city id 5600685, record count 537\n",
      "Checked Mandalī, city id 93709, record count 538\n",
      "Checked Blind River, city id 5903851, record count 539\n",
      "Checked Edson, city id 5946820, record count 540\n",
      "Checked Semīrom, city id 116406, record count 541\n",
      "Checked Port Lincoln, city id 2063036, record count 542\n",
      "Checked Santa Marta, city id 3668605, record count 543\n",
      "Checked Sitka, city id 5557293, record count 544\n",
      "Checked Palmerston, city id 6301965, record count 545\n",
      "Checked Ambulu, city id 1621313, record count 546\n",
      "City not found\n",
      "City not found\n",
      "Checked Savelugu, city id 2295517, record count 547\n",
      "Checked Phang Nga, city id 1151464, record count 548\n",
      "Checked Nemuro, city id 2128975, record count 549\n",
      "Checked Lagoa, city id 3372964, record count 550\n",
      "Checked Cascais, city id 2269594, record count 551\n",
      "Checked St. George's, city id 3579925, record count 552\n",
      "Checked Kandrian, city id 2094746, record count 553\n",
      "Checked Gravdal, city id 3155152, record count 554\n",
      "Checked Bagn, city id 3162199, record count 555\n",
      "Checked Gorontalo, city id 1643837, record count 556\n",
      "Checked Dulce Nombre de Culmí, city id 3612810, record count 557\n",
      "Checked Xinzhi, city id 1788462, record count 558\n",
      "Checked Vidim, city id 2013406, record count 559\n",
      "Checked Poyarkovo, city id 2017705, record count 560\n",
      "Checked Mindelo, city id 3374462, record count 561\n",
      "Checked Knysna, city id 988698, record count 562\n",
      "Checked Anito, city id 1730622, record count 563\n",
      "Checked Palmerston North, city id 2185018, record count 564\n",
      "Checked Cayenne, city id 3382160, record count 565\n",
      "Checked Östersund, city id 2685750, record count 566\n",
      "Checked La Libertad, city id 3655131, record count 567\n",
      "Checked Forsytheganj, city id 10722858, record count 568\n",
      "Checked Ayagoz, city id 1525988, record count 569\n",
      "Checked Nara, city id 1855612, record count 570\n",
      "Checked Zafra, city id 2509377, record count 571\n",
      "Checked Weyburn, city id 6179652, record count 572\n",
      "City not found\n",
      "Checked Hays, city id 4696788, record count 573\n",
      "Checked Qui Nhon, city id 1568574, record count 574\n",
      "Checked Labuan, city id 1733782, record count 575\n",
      "Checked Adré, city id 245669, record count 576\n",
      "Checked Monze, city id 906044, record count 577\n",
      "Checked Katsuura, city id 2112309, record count 578\n",
      "Checked Sibut, city id 2383119, record count 579\n",
      "Checked Gornopravdinsk, city id 1506268, record count 580\n",
      "Checked Inhambane, city id 1045114, record count 581\n",
      "Checked Örnsköldsvik, city id 2686469, record count 582\n",
      "Checked Vimperk, city id 3062888, record count 583\n"
     ]
    }
   ],
   "source": [
    "url = \"http://api.openweathermap.org/data/2.5/weather?\"\n",
    "units = \"imperial\"\n",
    "\n",
    "cityApi = []\n",
    "cloudinessApi = []\n",
    "countryApi = []\n",
    "dateApi = []\n",
    "humidityApi = []\n",
    "latApi = []\n",
    "lngApi = []\n",
    "maxTempApi = []\n",
    "windSpeedApi = [] \n",
    "RECORD = 0\n",
    "\n",
    "print(\"Beginning Data Retrieval\")  \n",
    "print(\"-----------------------------\")\n",
    "\n",
    "# Build query URL\n",
    "query_url = f\"{url}appid={weather_api_key}&units={units}&q=\"\n",
    "\n",
    "for CT in cities:\n",
    " \n",
    "    try:\n",
    "        response = requests.get(query_url + CT).json()\n",
    "        cityApi.append(response[\"name\"])\n",
    "        cloudinessApi.append(response[\"clouds\"][\"all\"])\n",
    "        countryApi.append(response[\"sys\"][\"country\"])\n",
    "        dateApi.append(response[\"dt\"])\n",
    "        humidityApi.append(response[\"main\"][\"humidity\"])\n",
    "        latApi.append(response[\"coord\"][\"lat\"])\n",
    "        lngApi.append(response[\"coord\"][\"lon\"])\n",
    "        maxTempApi.append(response[\"main\"][\"temp_max\"])\n",
    "        windSpeedApi.append(response[\"wind\"][\"speed\"])\n",
    "        RECORD = RECORD +1\n",
    "        cityName = response[\"name\"]\n",
    "        cityID = response[\"id\"]\n",
    "        print(f\"Checked {cityName}, city id {cityID}, record count {RECORD}\")\n",
    "        \n",
    "    except Exception as exc:\n",
    "        print(f\"City not found\")\n",
    "        \n",
    "    \n",
    "    time.sleep(1)\n"
   ]
  },
  {
   "cell_type": "code",
   "execution_count": null,
   "metadata": {},
   "outputs": [],
   "source": []
  },
  {
   "cell_type": "markdown",
   "metadata": {},
   "source": [
    "### Convert Raw Data to DataFrame\n",
    "* Export the city data into a .csv.\n",
    "* Display the DataFrame"
   ]
  },
  {
   "cell_type": "code",
   "execution_count": 51,
   "metadata": {},
   "outputs": [
    {
     "data": {
      "text/html": [
       "<div>\n",
       "<style scoped>\n",
       "    .dataframe tbody tr th:only-of-type {\n",
       "        vertical-align: middle;\n",
       "    }\n",
       "\n",
       "    .dataframe tbody tr th {\n",
       "        vertical-align: top;\n",
       "    }\n",
       "\n",
       "    .dataframe thead th {\n",
       "        text-align: right;\n",
       "    }\n",
       "</style>\n",
       "<table border=\"1\" class=\"dataframe\">\n",
       "  <thead>\n",
       "    <tr style=\"text-align: right;\">\n",
       "      <th></th>\n",
       "      <th>City</th>\n",
       "      <th>Cloudiness</th>\n",
       "      <th>Country</th>\n",
       "      <th>Date</th>\n",
       "      <th>Humidity</th>\n",
       "      <th>Lat</th>\n",
       "      <th>Lng</th>\n",
       "      <th>Max Temp</th>\n",
       "      <th>Wind Speed</th>\n",
       "    </tr>\n",
       "  </thead>\n",
       "  <tbody>\n",
       "    <tr>\n",
       "      <td>0</td>\n",
       "      <td>Breves</td>\n",
       "      <td>100</td>\n",
       "      <td>BR</td>\n",
       "      <td>1584051065</td>\n",
       "      <td>96</td>\n",
       "      <td>-1.68</td>\n",
       "      <td>-50.48</td>\n",
       "      <td>77.05</td>\n",
       "      <td>0.29</td>\n",
       "    </tr>\n",
       "    <tr>\n",
       "      <td>1</td>\n",
       "      <td>Vila Velha</td>\n",
       "      <td>75</td>\n",
       "      <td>BR</td>\n",
       "      <td>1584051070</td>\n",
       "      <td>88</td>\n",
       "      <td>-20.33</td>\n",
       "      <td>-40.29</td>\n",
       "      <td>78.01</td>\n",
       "      <td>9.17</td>\n",
       "    </tr>\n",
       "    <tr>\n",
       "      <td>2</td>\n",
       "      <td>Mahébourg</td>\n",
       "      <td>75</td>\n",
       "      <td>MU</td>\n",
       "      <td>1584051075</td>\n",
       "      <td>94</td>\n",
       "      <td>-20.41</td>\n",
       "      <td>57.70</td>\n",
       "      <td>79.00</td>\n",
       "      <td>3.36</td>\n",
       "    </tr>\n",
       "    <tr>\n",
       "      <td>3</td>\n",
       "      <td>Bredasdorp</td>\n",
       "      <td>0</td>\n",
       "      <td>ZA</td>\n",
       "      <td>1584051245</td>\n",
       "      <td>88</td>\n",
       "      <td>-34.53</td>\n",
       "      <td>20.04</td>\n",
       "      <td>66.20</td>\n",
       "      <td>1.12</td>\n",
       "    </tr>\n",
       "    <tr>\n",
       "      <td>4</td>\n",
       "      <td>Mataura</td>\n",
       "      <td>10</td>\n",
       "      <td>NZ</td>\n",
       "      <td>1584051356</td>\n",
       "      <td>89</td>\n",
       "      <td>-46.19</td>\n",
       "      <td>168.86</td>\n",
       "      <td>49.33</td>\n",
       "      <td>0.25</td>\n",
       "    </tr>\n",
       "    <tr>\n",
       "      <td>...</td>\n",
       "      <td>...</td>\n",
       "      <td>...</td>\n",
       "      <td>...</td>\n",
       "      <td>...</td>\n",
       "      <td>...</td>\n",
       "      <td>...</td>\n",
       "      <td>...</td>\n",
       "      <td>...</td>\n",
       "      <td>...</td>\n",
       "    </tr>\n",
       "    <tr>\n",
       "      <td>578</td>\n",
       "      <td>Sibut</td>\n",
       "      <td>99</td>\n",
       "      <td>CF</td>\n",
       "      <td>1584052016</td>\n",
       "      <td>90</td>\n",
       "      <td>5.72</td>\n",
       "      <td>19.07</td>\n",
       "      <td>73.09</td>\n",
       "      <td>3.44</td>\n",
       "    </tr>\n",
       "    <tr>\n",
       "      <td>579</td>\n",
       "      <td>Gornopravdinsk</td>\n",
       "      <td>100</td>\n",
       "      <td>RU</td>\n",
       "      <td>1584052018</td>\n",
       "      <td>90</td>\n",
       "      <td>60.05</td>\n",
       "      <td>69.90</td>\n",
       "      <td>34.03</td>\n",
       "      <td>14.16</td>\n",
       "    </tr>\n",
       "    <tr>\n",
       "      <td>580</td>\n",
       "      <td>Inhambane</td>\n",
       "      <td>1</td>\n",
       "      <td>MZ</td>\n",
       "      <td>1584052019</td>\n",
       "      <td>81</td>\n",
       "      <td>-23.86</td>\n",
       "      <td>35.38</td>\n",
       "      <td>77.95</td>\n",
       "      <td>8.97</td>\n",
       "    </tr>\n",
       "    <tr>\n",
       "      <td>581</td>\n",
       "      <td>Örnsköldsvik</td>\n",
       "      <td>100</td>\n",
       "      <td>SE</td>\n",
       "      <td>1584052020</td>\n",
       "      <td>94</td>\n",
       "      <td>63.29</td>\n",
       "      <td>18.72</td>\n",
       "      <td>32.00</td>\n",
       "      <td>12.75</td>\n",
       "    </tr>\n",
       "    <tr>\n",
       "      <td>582</td>\n",
       "      <td>Vimperk</td>\n",
       "      <td>67</td>\n",
       "      <td>CZ</td>\n",
       "      <td>1584052021</td>\n",
       "      <td>80</td>\n",
       "      <td>49.06</td>\n",
       "      <td>13.78</td>\n",
       "      <td>50.00</td>\n",
       "      <td>4.18</td>\n",
       "    </tr>\n",
       "  </tbody>\n",
       "</table>\n",
       "<p>583 rows × 9 columns</p>\n",
       "</div>"
      ],
      "text/plain": [
       "               City  Cloudiness Country        Date  Humidity    Lat     Lng  \\\n",
       "0            Breves         100      BR  1584051065        96  -1.68  -50.48   \n",
       "1        Vila Velha          75      BR  1584051070        88 -20.33  -40.29   \n",
       "2         Mahébourg          75      MU  1584051075        94 -20.41   57.70   \n",
       "3        Bredasdorp           0      ZA  1584051245        88 -34.53   20.04   \n",
       "4           Mataura          10      NZ  1584051356        89 -46.19  168.86   \n",
       "..              ...         ...     ...         ...       ...    ...     ...   \n",
       "578           Sibut          99      CF  1584052016        90   5.72   19.07   \n",
       "579  Gornopravdinsk         100      RU  1584052018        90  60.05   69.90   \n",
       "580       Inhambane           1      MZ  1584052019        81 -23.86   35.38   \n",
       "581    Örnsköldsvik         100      SE  1584052020        94  63.29   18.72   \n",
       "582         Vimperk          67      CZ  1584052021        80  49.06   13.78   \n",
       "\n",
       "     Max Temp  Wind Speed  \n",
       "0       77.05        0.29  \n",
       "1       78.01        9.17  \n",
       "2       79.00        3.36  \n",
       "3       66.20        1.12  \n",
       "4       49.33        0.25  \n",
       "..        ...         ...  \n",
       "578     73.09        3.44  \n",
       "579     34.03       14.16  \n",
       "580     77.95        8.97  \n",
       "581     32.00       12.75  \n",
       "582     50.00        4.18  \n",
       "\n",
       "[583 rows x 9 columns]"
      ]
     },
     "execution_count": 51,
     "metadata": {},
     "output_type": "execute_result"
    }
   ],
   "source": [
    "weather_dic = {\n",
    "    \n",
    "    \"City\": cityApi,\n",
    "    \"Cloudiness\":cloudinessApi, \n",
    "    \"Country\":countryApi,\n",
    "    \"Date\":dateApi, \n",
    "    \"Humidity\": humidityApi,\n",
    "    \"Lat\":latApi, \n",
    "    \"Lng\":lngApi, \n",
    "    \"Max Temp\": maxTempApi,\n",
    "    \"Wind Speed\":windSpeedApi\n",
    "}\n",
    "\n",
    "weather_df = pd.DataFrame(weather_dic)\n",
    "weather_df.to_csv('weatherPy.csv', index = False) \n",
    "\n",
    "weather_df"
   ]
  },
  {
   "cell_type": "code",
   "execution_count": null,
   "metadata": {},
   "outputs": [],
   "source": []
  },
  {
   "cell_type": "markdown",
   "metadata": {},
   "source": [
    "### Plotting the Data\n",
    "* Use proper labeling of the plots using plot titles (including date of analysis) and axes labels.\n",
    "* Save the plotted figures as .pngs."
   ]
  },
  {
   "cell_type": "markdown",
   "metadata": {},
   "source": [
    "#### Latitude vs. Temperature Plot"
   ]
  },
  {
   "cell_type": "code",
   "execution_count": 52,
   "metadata": {
    "scrolled": true
   },
   "outputs": [
    {
     "data": {
      "image/png": "[encoded data removed]",
      "text/plain": [
       "<Figure size 432x288 with 1 Axes>"
      ]
     },
     "metadata": {
      "needs_background": "light"
     },
     "output_type": "display_data"
    }
   ],
   "source": [
    "plt.scatter(weather_df[\"Lat\"], weather_df[\"Max Temp\"], marker=\"o\")\n",
    "\n",
    "plt.title(\"City Latitude vs. Max Temperature\")\n",
    "plt.xlabel(\"Latitude\")\n",
    "plt.ylabel(\"Max Temperature(F)\")\n",
    "plt.grid(True)"
   ]
  },
  {
   "cell_type": "markdown",
   "metadata": {},
   "source": [
    "#### Latitude vs. Humidity Plot"
   ]
  },
  {
   "cell_type": "code",
   "execution_count": 53,
   "metadata": {},
   "outputs": [
    {
     "data": {
      "image/png": "[encoded data removed]",
      "text/plain": [
       "<Figure size 432x288 with 1 Axes>"
      ]
     },
     "metadata": {
      "needs_background": "light"
     },
     "output_type": "display_data"
    }
   ],
   "source": [
    "plt.scatter(weather_df[\"Lat\"], weather_df[\"Humidity\"], marker=\"o\")\n",
    "\n",
    "plt.title(\"City Latitude vs. Humidity\")\n",
    "plt.xlabel(\"Latitude\")\n",
    "plt.ylabel(\"Humidity(%)\")\n",
    "plt.grid(True)"
   ]
  },
  {
   "cell_type": "markdown",
   "metadata": {},
   "source": [
    "#### Latitude vs. Cloudiness Plot"
   ]
  },
  {
   "cell_type": "code",
   "execution_count": 54,
   "metadata": {},
   "outputs": [
    {
     "data": {
      "image/png": "[encoded data removed]",
      "text/plain": [
       "<Figure size 432x288 with 1 Axes>"
      ]
     },
     "metadata": {
      "needs_background": "light"
     },
     "output_type": "display_data"
    }
   ],
   "source": [
    "plt.scatter(weather_df[\"Lat\"], weather_df[\"Cloudiness\"], marker=\"o\")\n",
    "\n",
    "plt.title(\"City Latitude vs. Cloudiness\")\n",
    "plt.xlabel(\"Latitude\")\n",
    "plt.ylabel(\"Cloudiness(%)\")\n",
    "plt.grid(True)"
   ]
  },
  {
   "cell_type": "markdown",
   "metadata": {},
   "source": [
    "#### Latitude vs. Wind Speed Plot"
   ]
  },
  {
   "cell_type": "code",
   "execution_count": 55,
   "metadata": {},
   "outputs": [
    {
     "data": {
      "image/png": "[encoded data removed]",
      "text/plain": [
       "<Figure size 432x288 with 1 Axes>"
      ]
     },
     "metadata": {
      "needs_background": "light"
     },
     "output_type": "display_data"
    }
   ],
   "source": [
    "plt.scatter(weather_df[\"Lat\"], weather_df[\"Wind Speed\"], marker=\"o\")\n",
    "\n",
    "plt.title(\"City Latitude vs. Wind Speed\")\n",
    "plt.xlabel(\"Latitude\")\n",
    "plt.ylabel(\"Wind Speed (mph)\")\n",
    "plt.grid(True)"
   ]
  },
  {
   "cell_type": "markdown",
   "metadata": {},
   "source": [
    "## Linear Regression"
   ]
  },
  {
   "cell_type": "code",
   "execution_count": 66,
   "metadata": {},
   "outputs": [],
   "source": [
    "# OPTIONAL: Create a function to create Linear Regression plots\n",
    "def north():\n",
    "    (slope, intercept, rvalue, pvalue, stderr) = linregress(x_values, y_values)\n",
    "    regress_values = x_values * slope + intercept\n",
    "    line_eq = \"y = \" + str(round(slope,2)) + \"x + \" + str(round(intercept,2))\n",
    "    plt.plot(x_values,regress_values,\"r-\")\n",
    "    plt.annotate(line_eq,(20,20),fontsize=15,color=\"red\")\n",
    "    \n",
    "def south():\n",
    "    (slope, intercept, rvalue, pvalue, stderr) = linregress(x_values, y_values)\n",
    "    regress_values = x_values * slope + intercept\n",
    "    line_eq = \"y = \" + str(round(slope,2)) + \"x + \" + str(round(intercept,2))\n",
    "    plt.plot(x_values,regress_values,\"r-\")\n",
    "    plt.annotate(line_eq,(-20,15),fontsize=15,color=\"red\")"
   ]
  },
  {
   "cell_type": "code",
   "execution_count": 57,
   "metadata": {},
   "outputs": [
    {
     "data": {
      "text/html": [
       "<div>\n",
       "<style scoped>\n",
       "    .dataframe tbody tr th:only-of-type {\n",
       "        vertical-align: middle;\n",
       "    }\n",
       "\n",
       "    .dataframe tbody tr th {\n",
       "        vertical-align: top;\n",
       "    }\n",
       "\n",
       "    .dataframe thead th {\n",
       "        text-align: right;\n",
       "    }\n",
       "</style>\n",
       "<table border=\"1\" class=\"dataframe\">\n",
       "  <thead>\n",
       "    <tr style=\"text-align: right;\">\n",
       "      <th></th>\n",
       "      <th>City</th>\n",
       "      <th>Cloudiness</th>\n",
       "      <th>Country</th>\n",
       "      <th>Date</th>\n",
       "      <th>Humidity</th>\n",
       "      <th>Lat</th>\n",
       "      <th>Lng</th>\n",
       "      <th>Max Temp</th>\n",
       "      <th>Wind Speed</th>\n",
       "    </tr>\n",
       "  </thead>\n",
       "  <tbody>\n",
       "    <tr>\n",
       "      <td>0</td>\n",
       "      <td>Breves</td>\n",
       "      <td>100</td>\n",
       "      <td>BR</td>\n",
       "      <td>1584051065</td>\n",
       "      <td>96</td>\n",
       "      <td>-1.68</td>\n",
       "      <td>-50.48</td>\n",
       "      <td>77.05</td>\n",
       "      <td>0.29</td>\n",
       "    </tr>\n",
       "    <tr>\n",
       "      <td>1</td>\n",
       "      <td>Vila Velha</td>\n",
       "      <td>75</td>\n",
       "      <td>BR</td>\n",
       "      <td>1584051070</td>\n",
       "      <td>88</td>\n",
       "      <td>-20.33</td>\n",
       "      <td>-40.29</td>\n",
       "      <td>78.01</td>\n",
       "      <td>9.17</td>\n",
       "    </tr>\n",
       "    <tr>\n",
       "      <td>2</td>\n",
       "      <td>Mahébourg</td>\n",
       "      <td>75</td>\n",
       "      <td>MU</td>\n",
       "      <td>1584051075</td>\n",
       "      <td>94</td>\n",
       "      <td>-20.41</td>\n",
       "      <td>57.70</td>\n",
       "      <td>79.00</td>\n",
       "      <td>3.36</td>\n",
       "    </tr>\n",
       "    <tr>\n",
       "      <td>3</td>\n",
       "      <td>Bredasdorp</td>\n",
       "      <td>0</td>\n",
       "      <td>ZA</td>\n",
       "      <td>1584051245</td>\n",
       "      <td>88</td>\n",
       "      <td>-34.53</td>\n",
       "      <td>20.04</td>\n",
       "      <td>66.20</td>\n",
       "      <td>1.12</td>\n",
       "    </tr>\n",
       "    <tr>\n",
       "      <td>4</td>\n",
       "      <td>Mataura</td>\n",
       "      <td>10</td>\n",
       "      <td>NZ</td>\n",
       "      <td>1584051356</td>\n",
       "      <td>89</td>\n",
       "      <td>-46.19</td>\n",
       "      <td>168.86</td>\n",
       "      <td>49.33</td>\n",
       "      <td>0.25</td>\n",
       "    </tr>\n",
       "  </tbody>\n",
       "</table>\n",
       "</div>"
      ],
      "text/plain": [
       "         City  Cloudiness Country        Date  Humidity    Lat     Lng  \\\n",
       "0      Breves         100      BR  1584051065        96  -1.68  -50.48   \n",
       "1  Vila Velha          75      BR  1584051070        88 -20.33  -40.29   \n",
       "2   Mahébourg          75      MU  1584051075        94 -20.41   57.70   \n",
       "3  Bredasdorp           0      ZA  1584051245        88 -34.53   20.04   \n",
       "4     Mataura          10      NZ  1584051356        89 -46.19  168.86   \n",
       "\n",
       "   Max Temp  Wind Speed  \n",
       "0     77.05        0.29  \n",
       "1     78.01        9.17  \n",
       "2     79.00        3.36  \n",
       "3     66.20        1.12  \n",
       "4     49.33        0.25  "
      ]
     },
     "execution_count": 57,
     "metadata": {},
     "output_type": "execute_result"
    }
   ],
   "source": [
    "# Create Northern and Southern Hemisphere DataFrames\n",
    "north_weather_df = weather_df[weather_df['Lat'] >= 0]\n",
    "south_weather_df = weather_df[weather_df['Lat'] <0]\n",
    "\n",
    "\n",
    "south_weather_df.head()"
   ]
  },
  {
   "cell_type": "code",
   "execution_count": 68,
   "metadata": {},
   "outputs": [
    {
     "data": {
      "text/plain": [
       "dtype('float64')"
      ]
     },
     "execution_count": 68,
     "metadata": {},
     "output_type": "execute_result"
    }
   ],
   "source": [
    "north_weather_df.head()"
   ]
  },
  {
   "cell_type": "markdown",
   "metadata": {},
   "source": [
    "####  Northern Hemisphere - Max Temp vs. Latitude Linear Regression"
   ]
  },
  {
   "cell_type": "code",
   "execution_count": 59,
   "metadata": {},
   "outputs": [
    {
     "data": {
      "image/png": "[encoded data removed]",
      "text/plain": [
       "<Figure size 432x288 with 1 Axes>"
      ]
     },
     "metadata": {
      "needs_background": "light"
     },
     "output_type": "display_data"
    }
   ],
   "source": [
    "plt.scatter(north_weather_df[\"Lat\"], north_weather_df[\"Max Temp\"], marker=\"o\")\n",
    "\n",
    "plt.title(\"City Latitude vs. Max Temperature\")\n",
    "plt.xlabel(\"Latitude\")\n",
    "plt.ylabel(\"Max Temperature(F)\")\n",
    "x_values = north_weather_df[\"Lat\"]\n",
    "y_values = north_weather_df[\"Max Temp\"]\n",
    "north()\n",
    "\n",
    "plt.show()"
   ]
  },
  {
   "cell_type": "code",
   "execution_count": null,
   "metadata": {},
   "outputs": [],
   "source": [
    "\n"
   ]
  },
  {
   "cell_type": "markdown",
   "metadata": {},
   "source": [
    "####  Southern Hemisphere - Max Temp vs. Latitude Linear Regression"
   ]
  },
  {
   "cell_type": "code",
   "execution_count": 60,
   "metadata": {},
   "outputs": [
    {
     "data": {
      "image/png": "[encoded data removed]",
      "text/plain": [
       "<Figure size 432x288 with 1 Axes>"
      ]
     },
     "metadata": {
      "needs_background": "light"
     },
     "output_type": "display_data"
    }
   ],
   "source": [
    "plt.scatter(south_weather_df[\"Lat\"], south_weather_df[\"Max Temp\"], marker=\"o\")\n",
    "\n",
    "plt.title(\"City Latitude vs. Max Temperature\")\n",
    "plt.xlabel(\"Latitude\")\n",
    "plt.ylabel(\"Max Temperature(F)\")\n",
    "x_values = south_weather_df[\"Lat\"]\n",
    "y_values = south_weather_df[\"Max Temp\"]\n",
    "south()\n",
    "\n",
    "plt.show()"
   ]
  },
  {
   "cell_type": "code",
   "execution_count": null,
   "metadata": {},
   "outputs": [],
   "source": []
  },
  {
   "cell_type": "markdown",
   "metadata": {},
   "source": [
    "####  Northern Hemisphere - Humidity (%) vs. Latitude Linear Regression"
   ]
  },
  {
   "cell_type": "code",
   "execution_count": 61,
   "metadata": {},
   "outputs": [
    {
     "data": {
      "image/png": "[encoded data removed]",
      "text/plain": [
       "<Figure size 432x288 with 1 Axes>"
      ]
     },
     "metadata": {
      "needs_background": "light"
     },
     "output_type": "display_data"
    }
   ],
   "source": [
    "plt.scatter(north_weather_df[\"Lat\"], north_weather_df[\"Humidity\"], marker=\"o\")\n",
    "\n",
    "plt.title(\"City Latitude vs. Humidity\")\n",
    "plt.xlabel(\"Latitude\")\n",
    "plt.ylabel(\"Humidity(%)\")\n",
    "x_values = north_weather_df[\"Lat\"]\n",
    "y_values = north_weather_df[\"Humidity\"]\n",
    "north()\n",
    "\n",
    "plt.show()"
   ]
  },
  {
   "cell_type": "code",
   "execution_count": null,
   "metadata": {},
   "outputs": [],
   "source": []
  },
  {
   "cell_type": "markdown",
   "metadata": {},
   "source": [
    "####  Southern Hemisphere - Humidity (%) vs. Latitude Linear Regression"
   ]
  },
  {
   "cell_type": "code",
   "execution_count": 62,
   "metadata": {},
   "outputs": [
    {
     "data": {
      "image/png": "[encoded data removed]",
      "text/plain": [
       "<Figure size 432x288 with 1 Axes>"
      ]
     },
     "metadata": {
      "needs_background": "light"
     },
     "output_type": "display_data"
    }
   ],
   "source": [
    "plt.scatter(south_weather_df[\"Lat\"], south_weather_df[\"Humidity\"], marker=\"o\")\n",
    "\n",
    "plt.title(\"City Latitude vs. Humidity\")\n",
    "plt.xlabel(\"Latitude\")\n",
    "plt.ylabel(\"Humidity(%)\")\n",
    "x_values = south_weather_df[\"Lat\"]\n",
    "y_values = south_weather_df[\"Humidity\"]\n",
    "south()\n",
    "\n",
    "plt.show()"
   ]
  },
  {
   "cell_type": "code",
   "execution_count": null,
   "metadata": {},
   "outputs": [],
   "source": []
  },
  {
   "cell_type": "markdown",
   "metadata": {},
   "source": [
    "####  Northern Hemisphere - Cloudiness (%) vs. Latitude Linear Regression"
   ]
  },
  {
   "cell_type": "code",
   "execution_count": 63,
   "metadata": {},
   "outputs": [
    {
     "data": {
      "image/png": "[encoded data removed]",
      "text/plain": [
       "<Figure size 432x288 with 1 Axes>"
      ]
     },
     "metadata": {
      "needs_background": "light"
     },
     "output_type": "display_data"
    }
   ],
   "source": [
    "plt.scatter(north_weather_df[\"Lat\"], north_weather_df[\"Cloudiness\"], marker=\"o\")\n",
    "\n",
    "plt.title(\"City Latitude vs. Cloudiness\")\n",
    "plt.xlabel(\"Latitude\")\n",
    "plt.ylabel(\"Cloudiness(%)\")\n",
    "x_values = north_weather_df[\"Lat\"]\n",
    "y_values = north_weather_df[\"Cloudiness\"]\n",
    "north()\n",
    "\n",
    "plt.show()"
   ]
  },
  {
   "cell_type": "code",
   "execution_count": null,
   "metadata": {},
   "outputs": [],
   "source": []
  },
  {
   "cell_type": "markdown",
   "metadata": {},
   "source": [
    "####  Southern Hemisphere - Cloudiness (%) vs. Latitude Linear Regression"
   ]
  },
  {
   "cell_type": "code",
   "execution_count": 64,
   "metadata": {},
   "outputs": [
    {
     "data": {
      "image/png": "[encoded data removed]",
      "text/plain": [
       "<Figure size 432x288 with 1 Axes>"
      ]
     },
     "metadata": {
      "needs_background": "light"
     },
     "output_type": "display_data"
    }
   ],
   "source": [
    "plt.scatter(south_weather_df[\"Lat\"], south_weather_df[\"Cloudiness\"], marker=\"o\")\n",
    "\n",
    "plt.title(\"City Latitude vs. Cloudiness\")\n",
    "plt.xlabel(\"Latitude\")\n",
    "plt.ylabel(\"Cloudiness(%)\")\n",
    "x_values = south_weather_df[\"Lat\"]\n",
    "y_values = south_weather_df[\"Cloudiness\"]\n",
    "south()\n",
    "\n",
    "plt.show()"
   ]
  },
  {
   "cell_type": "code",
   "execution_count": null,
   "metadata": {},
   "outputs": [],
   "source": []
  },
  {
   "cell_type": "markdown",
   "metadata": {},
   "source": [
    "####  Northern Hemisphere - Wind Speed (mph) vs. Latitude Linear Regression"
   ]
  },
  {
   "cell_type": "code",
   "execution_count": 49,
   "metadata": {},
   "outputs": [
    {
     "data": {
      "image/png": "[encoded data removed]",
      "text/plain": [
       "<Figure size 432x288 with 1 Axes>"
      ]
     },
     "metadata": {
      "needs_background": "light"
     },
     "output_type": "display_data"
    }
   ],
   "source": [
    "plt.scatter(north_weather_df[\"Lat\"], north_weather_df[\"Wind Speed\"], marker=\"o\")\n",
    "\n",
    "plt.title(\"City Latitude vs. Wind Speed\")\n",
    "plt.xlabel(\"Latitude\")\n",
    "plt.ylabel(\"Wind Speed (mph)\")\n",
    "x_values = north_weather_df[\"Lat\"]\n",
    "y_values = north_weather_df[\"Wind Speed\"]\n",
    "north()\n",
    "\n",
    "plt.show()"
   ]
  },
  {
   "cell_type": "code",
   "execution_count": null,
   "metadata": {},
   "outputs": [],
   "source": []
  },
  {
   "cell_type": "markdown",
   "metadata": {},
   "source": [
    "####  Southern Hemisphere - Wind Speed (mph) vs. Latitude Linear Regression"
   ]
  },
  {
   "cell_type": "code",
   "execution_count": 65,
   "metadata": {},
   "outputs": [
    {
     "data": {
      "image/png": "[encoded data removed]",
      "text/plain": [
       "<Figure size 432x288 with 1 Axes>"
      ]
     },
     "metadata": {
      "needs_background": "light"
     },
     "output_type": "display_data"
    }
   ],
   "source": [
    "plt.scatter(south_weather_df[\"Lat\"], south_weather_df[\"Wind Speed\"], marker=\"o\")\n",
    "\n",
    "plt.title(\"City Latitude vs. Wind Speed\")\n",
    "plt.xlabel(\"Latitude\")\n",
    "plt.ylabel(\"Wind Speed (mph)\")\n",
    "x_values = south_weather_df[\"Lat\"]\n",
    "y_values = south_weather_df[\"Wind Speed\"]\n",
    "south()\n",
    "\n",
    "plt.show()"
   ]
  },
  {
   "cell_type": "code",
   "execution_count": null,
   "metadata": {},
   "outputs": [],
   "source": []
  },
  {
   "cell_type": "code",
   "execution_count": null,
   "metadata": {},
   "outputs": [],
   "source": []
  }
 ],
 "metadata": {
  "anaconda-cloud": {},
  "kernel_info": {
   "name": "python3"
  },
  "kernelspec": {
   "display_name": "Python 3",
   "language": "python",
   "name": "python3"
  },
  "language_info": {
   "codemirror_mode": {
    "name": "ipython",
    "version": 3
   },
   "file_extension": ".py",
   "mimetype": "text/x-python",
   "name": "python",
   "nbconvert_exporter": "python",
   "pygments_lexer": "ipython3",
   "version": "3.7.4"
  },
  "latex_envs": {
   "LaTeX_envs_menu_present": true,
   "autoclose": false,
   "autocomplete": true,
   "bibliofile": "biblio.bib",
   "cite_by": "apalike",
   "current_citInitial": 1,
   "eqLabelWithNumbers": true,
   "eqNumInitial": 1,
   "hotkeys": {
    "equation": "Ctrl-E",
    "itemize": "Ctrl-I"
   },
   "labels_anchors": false,
   "latex_user_defs": false,
   "report_style_numbering": false,
   "user_envs_cfg": false
  },
  "nteract": {
   "version": "0.12.3"
  }
 },
 "nbformat": 4,
 "nbformat_minor": 2
}
